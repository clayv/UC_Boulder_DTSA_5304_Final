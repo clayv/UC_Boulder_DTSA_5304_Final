{
 "cells": [
  {
   "cell_type": "code",
   "execution_count": 1,
   "id": "2f22e01c",
   "metadata": {},
   "outputs": [],
   "source": [
    "import altair as alt\n",
    "import pandas as pd\n",
    "\n",
    "stateLevel = pd.read_csv(\"./data/2020_state_local.csv\")\n",
    "breakout = pd.read_csv(\"./data/2020_Breakout.csv\")\n",
    "states = alt.topo_feature('./data/us-10m.json', feature='states')\n"
   ]
  },
  {
   "cell_type": "code",
   "execution_count": 4,
   "id": "71815201",
   "metadata": {},
   "outputs": [],
   "source": [
    "background = alt.Chart(states).mark_geoshape(\n",
    "    fill='lightgray',\n",
    "    stroke='white'\n",
    ").project(\n",
    "    type='albersUsa'\n",
    ").properties(\n",
    "    width=500,\n",
    "    height=300\n",
    ")\n",
    "\n",
    "selection = alt.selection_single(empty='all', fields=['State'])\n",
    "\n",
    "points = alt.Chart(stateLevel).mark_circle().encode(\n",
    "    longitude='Longitude:Q',\n",
    "    latitude='Latitude:Q',\n",
    "    color=alt.condition(selection, alt.value('green'), alt.value('red')),\n",
    "    size=alt.value(50),\n",
    "    tooltip=[alt.Text('Full Name:N', title='State'), 'Total Spending:N']\n",
    ").properties(\n",
    "    title='Total Spending'\n",
    ").add_selection(\n",
    "    selection\n",
    ")\n",
    "\n",
    "spendBar = alt.Chart(breakout).transform_filter(\n",
    "    selection\n",
    ").mark_bar().encode(\n",
    "    x=alt.X('sum(Spend_Mil):Q', title='Spending (millons)'),\n",
    "    y=alt.Y('Function:N', title=''),\n",
    "    color=alt.Color('Function:N', legend=None)\n",
    ").properties(\n",
    "    title='Spending Break Down',\n",
    "        width=500\n",
    ")\n",
    "\n",
    "text = alt.Chart(breakout).transform_filter(\n",
    "    selection\n",
    ").mark_text(dx=20, dy=1, color='black').encode(\n",
    "    x=alt.X('sum(Spend_Mil):Q'),\n",
    "    y=alt.Y('Function:N', title=''),\n",
    "    text=alt.Text('sum(Spend_Mil):Q', format=\".1f\")\n",
    ")\n",
    "\n",
    "(background + points & spendBar + text).save(\"FinalProject.html\")\n"
   ]
  },
  {
   "cell_type": "code",
   "execution_count": null,
   "id": "a94e09ee",
   "metadata": {},
   "outputs": [],
   "source": []
  }
 ],
 "metadata": {
  "kernelspec": {
   "display_name": "Python 3 (ipykernel)",
   "language": "python",
   "name": "python3"
  },
  "language_info": {
   "codemirror_mode": {
    "name": "ipython",
    "version": 3
   },
   "file_extension": ".py",
   "mimetype": "text/x-python",
   "name": "python",
   "nbconvert_exporter": "python",
   "pygments_lexer": "ipython3",
   "version": "3.9.9"
  }
 },
 "nbformat": 4,
 "nbformat_minor": 5
}
